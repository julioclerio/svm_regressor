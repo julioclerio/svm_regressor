{
  "nbformat": 4,
  "nbformat_minor": 0,
  "metadata": {
    "colab": {
      "provenance": [],
      "authorship_tag": "ABX9TyPAGQa3W3fdwZhgjmmkXv8T",
      "include_colab_link": true
    },
    "kernelspec": {
      "name": "python3",
      "display_name": "Python 3"
    },
    "language_info": {
      "name": "python"
    }
  },
  "cells": [
    {
      "cell_type": "markdown",
      "metadata": {
        "id": "view-in-github",
        "colab_type": "text"
      },
      "source": [
        "<a href=\"https://colab.research.google.com/github/julioclerio/svm_regressor/blob/main/notebooksml_svm_regressao.ipynb\" target=\"_parent\"><img src=\"https://colab.research.google.com/assets/colab-badge.svg\" alt=\"Open In Colab\"/></a>"
      ]
    },
    {
      "cell_type": "code",
      "execution_count": 1,
      "metadata": {
        "id": "MbQHOf2JH_Rt"
      },
      "outputs": [],
      "source": [
        "import pandas as pd\n",
        "from sklearn.compose import ColumnTransformer\n",
        "from sklearn.preprocessing import StandardScaler, OneHotEncoder, OrdinalEncoder\n",
        "from sklearn.impute import SimpleImputer\n",
        "from sklearn.model_selection import GridSearchCV, StratifiedKFold, train_test_split\n",
        "from sklearn.pipeline import Pipeline\n",
        "from sklearn.svm import SVR\n",
        "from sklearn.metrics import r2_score, mean_absolute_error, mean_squared_error\n",
        "import numpy as np\n",
        "from sklearn.metrics import r2_score, mean_squared_error\n",
        "from sklearn.tree import DecisionTreeRegressor\n"
      ]
    },
    {
      "cell_type": "markdown",
      "source": [
        "SVR REGRESSOR"
      ],
      "metadata": {
        "id": "Fule7Lv9gRnW"
      }
    },
    {
      "cell_type": "code",
      "source": [
        "def process_data():\n",
        "    df = pd.read_csv('/content/house_prices.csv')\n",
        "    X = df.drop(columns=[\"SalePrice\", \"Id\"])\n",
        "    y = df[\"SalePrice\"]\n",
        "\n",
        "    X_train, X_test, y_train, y_test = train_test_split(X, y, test_size=0.3, random_state=42)\n",
        "\n",
        "    categorical_features = X_train.select_dtypes(include=['object']).columns.tolist()\n",
        "    numerical_features = X_train.select_dtypes(exclude=['object']).columns.tolist()\n",
        "\n",
        "    # Criação de pipelines para pré-processamento\n",
        "    numerical_pipeline = Pipeline([\n",
        "        ('imputer', SimpleImputer(strategy='mean')),\n",
        "        ('std_scaler', StandardScaler())\n",
        "    ])\n",
        "\n",
        "    categorical_pipeline = Pipeline([\n",
        "        ('imputer', SimpleImputer(strategy='constant', fill_value='unknown')),\n",
        "        ('onehot', OneHotEncoder(handle_unknown='ignore'))\n",
        "    ])\n",
        "\n",
        "    # Transformador de coluna para processamento conjunto\n",
        "    pre_processor = ColumnTransformer([\n",
        "        ('num', numerical_pipeline, numerical_features),\n",
        "        ('cat', categorical_pipeline, categorical_features)\n",
        "    ])\n",
        "\n",
        "    # Aplicação do pré-processador nos conjuntos de treino e teste\n",
        "    X_train_processed = pre_processor.fit_transform(X_train)\n",
        "    X_test_processed = pre_processor.transform(X_test)\n",
        "\n",
        "    return X_train, X_test, y_train, y_test, pre_processor\n",
        "\n",
        "X_train, X_test, y_train, y_test, pre_processor = process_data()\n",
        "\n",
        "# Criando o pipeline com SVR\n",
        "pipe_svr = Pipeline([('pre_process', pre_processor), (\"svr\", SVR())])\n",
        "\n",
        "# Ajustando o modelo\n",
        "pipe_svr.fit(X_train, y_train)\n",
        "\n",
        "param_grid = {\n",
        "    'svr__kernel': ['linear', 'poly', 'rbf'],\n",
        "    'svr__C': [0.1, 1, 10],\n",
        "    'svr__gamma': [0.1, 1, 'auto'],\n",
        "    'svr__epsilon': [0.1, 0.2, 0.3]\n",
        "}\n",
        "\n",
        "# Configurando e executando o Grid Search\n",
        "grid_search = GridSearchCV(estimator=pipe_svr, param_grid=param_grid, cv=3, n_jobs=-1)\n",
        "grid_search.fit(X_train, y_train)\n",
        "\n",
        "# Obtendo os melhores parâmetros e o melhor modelo\n",
        "best_params_svr = grid_search.best_params_\n",
        "best_model_svr = grid_search.best_estimator_\n",
        "\n",
        "# Avaliando o modelo final no conjunto de teste\n",
        "test_score = best_model_svr.score(X_test, y_test)\n",
        "print(f\"Melhores Parâmetros: {best_params_svr}\")\n",
        "print(f\"Score no conjunto de teste: {test_score}\")\n",
        "\n",
        "y_pred_train = best_model_svr.predict(X_train)\n",
        "y_pred_test = best_model_svr.predict(X_test)\n",
        "\n",
        "\n",
        "# Exibindo os resultados\n",
        "print(\"Resultados do conjunto de treino:\")\n",
        "print(f\"R2: { r2_score(y_train, y_pred_train):.2f}\")\n",
        "print(f\"MAE: { mean_absolute_error(y_train, y_pred_train):.2f}\")\n",
        "print(f\"RMSE: { np.sqrt(mean_squared_error(y_train, y_pred_train)):.2f}\")\n",
        "\n",
        "print(\"\\nResultados do conjunto de teste:\")\n",
        "print(f\"R2: { r2_score(y_test, y_pred_test):.2f}\")\n",
        "print(f\"MAE: { mean_absolute_error(y_test, y_pred_test):.2f}\")\n",
        "print(f\"RMSE: { np.sqrt(mean_squared_error(y_test, y_pred_test)):.2f}\")"
      ],
      "metadata": {
        "colab": {
          "base_uri": "https://localhost:8080/"
        },
        "id": "oCCKbBHyq71I",
        "outputId": "e8871045-9fa1-4ac8-c948-c3166a2225cb"
      },
      "execution_count": 75,
      "outputs": [
        {
          "output_type": "stream",
          "name": "stdout",
          "text": [
            "Melhores Parâmetros: {'svr__C': 1, 'svr__epsilon': 0.3, 'svr__gamma': 1, 'svr__kernel': 'poly'}\n",
            "Score no conjunto de teste: 0.8538014169060849\n",
            "Resultados do conjunto de treino:\n",
            "R2: 1.00\n",
            "MAE: 354.54\n",
            "RMSE: 4366.59\n",
            "\n",
            "Resultados do conjunto de teste:\n",
            "R2: 0.85\n",
            "MAE: 16681.52\n",
            "RMSE: 31940.37\n"
          ]
        }
      ]
    },
    {
      "cell_type": "code",
      "source": [
        "import numpy as np\n",
        "import pandas as pd\n",
        "from google.colab import drive\n",
        "import matplotlib.pyplot as plt\n",
        "import seaborn as sns\n",
        "from sklearn.model_selection import train_test_split\n",
        "from sklearn.discriminant_analysis import QuadraticDiscriminantAnalysis\n",
        "from sklearn.metrics import accuracy_score , classification_report, ConfusionMatrixDisplay,precision_score,recall_score, f1_score,roc_auc_score,roc_curve\n",
        "from sklearn.pipeline import Pipeline\n",
        "from imblearn.combine import SMOTETomek\n",
        "from sklearn.preprocessing import StandardScaler\n",
        "from sklearn.pipeline import Pipeline\n",
        "from sklearn.metrics import *\n",
        "from sklearn.model_selection import train_test_split\n",
        "from sklearn.linear_model import LogisticRegression\n",
        "from sklearn.model_selection import GridSearchCV\n",
        "from sklearn.ensemble import RandomForestRegressor\n",
        "from sklearn.model_selection import GridSearchCV, train_test_split\n",
        ""
      ],
      "metadata": {
        "id": "FYm_nsjZWiF_"
      },
      "execution_count": 22,
      "outputs": []
    },
    {
      "cell_type": "markdown",
      "source": [
        "RANDOM FOREST REGRESSOR\n",
        "\n"
      ],
      "metadata": {
        "id": "hRBBgN7mXlvi"
      }
    },
    {
      "cell_type": "code",
      "source": [
        "def process_data():\n",
        "    df = pd.read_csv('/content/house_prices.csv')\n",
        "    X = df.drop(columns=[\"SalePrice\", \"Id\"])\n",
        "    y = df[\"SalePrice\"]\n",
        "\n",
        "    X_train, X_test, y_train, y_test = train_test_split(X, y, test_size=0.3, random_state=42)\n",
        "\n",
        "    categorical_features = X_train.select_dtypes(include=['object']).columns.tolist()\n",
        "    numerical_features = X_train.select_dtypes(exclude=['object']).columns.tolist()\n",
        "\n",
        "    # Criação de pipelines para pré-processamento\n",
        "    numerical_pipeline = Pipeline([\n",
        "        ('imputer', SimpleImputer(strategy='mean')),\n",
        "        ('std_scaler', StandardScaler())\n",
        "    ])\n",
        "\n",
        "    categorical_pipeline = Pipeline([\n",
        "        ('imputer', SimpleImputer(strategy='constant', fill_value='unknown')),\n",
        "        ('onehot', OneHotEncoder(handle_unknown='ignore'))\n",
        "    ])\n",
        "\n",
        "    # Transformador de coluna para processamento conjunto\n",
        "    pre_processor = ColumnTransformer([\n",
        "        ('num', numerical_pipeline, numerical_features),\n",
        "        ('cat', categorical_pipeline, categorical_features)\n",
        "    ])\n",
        "\n",
        "    # Aplicação do pré-processador nos conjuntos de treino e teste\n",
        "    X_train_processed = pre_processor.fit_transform(X_train)\n",
        "    X_test_processed = pre_processor.transform(X_test)\n",
        "\n",
        "    return X_train, X_test, y_train, y_test, pre_processor\n",
        "\n",
        "X_train, X_test, y_train, y_test, pre_processor = process_data()\n",
        "\n",
        "rf = RandomForestRegressor(random_state=42)\n",
        "\n",
        "# Criando o pipeline com SVR\n",
        "pipe_rf = Pipeline([('pre_process', pre_processor),\n",
        "                    (\"rf\", rf)])\n",
        "\n",
        "\n",
        "parametros_rf = {\n",
        "    'rf__n_estimators': [100, 200, 300],\n",
        "    'rf__max_depth': [None, 5, 10, 15]\n",
        "}\n",
        "\n",
        "\n",
        "\n",
        "grid_search_rf = GridSearchCV(estimator = pipe_rf,\n",
        "                           param_grid = parametros_rf,\n",
        "                           cv = 5,\n",
        "                           scoring = 'neg_mean_squared_error',\n",
        "                           n_jobs = -1)\n",
        "\n",
        "\n",
        "# Configurando e executando o Grid Search\n",
        "grid_search_rf.fit(X_train, y_train)\n",
        "\n",
        "# Obtendo os melhores parâmetros e o melhor modelo\n",
        "best_params_rf = grid_search_rf.best_params_\n",
        "best_model_rf = grid_search_rf.best_estimator_\n",
        "\n",
        "# Avaliando o modelo final no conjunto de teste\n",
        "test_score = best_model_rf.score(X_test, y_test)\n",
        "print(f\"Melhores Parâmetros: {best_params_rf}\")\n",
        "print(f\"Score no conjunto de teste: {test_score}\")\n",
        "\n",
        "y_pred_train = best_model_rf.predict(X_train)\n",
        "y_pred_test = best_model_rf.predict(X_test)\n",
        "\n",
        "\n",
        "# Exibindo os resultados\n",
        "print(\"Resultados do conjunto de treino:\")\n",
        "print(f\"R2: { r2_score(y_train, y_pred_train):.2f}\")\n",
        "print(f\"MAE: { mean_absolute_error(y_train, y_pred_train):.2f}\")\n",
        "print(f\"RMSE: { np.sqrt(mean_squared_error(y_train, y_pred_train)):.2f}\")\n",
        "\n",
        "print(\"\\nResultados do conjunto de teste:\")\n",
        "print(f\"R2: { r2_score(y_test, y_pred_test):.2f}\")\n",
        "print(f\"MAE: { mean_absolute_error(y_test, y_pred_test):.2f}\")\n",
        "print(f\"RMSE: { np.sqrt(mean_squared_error(y_test, y_pred_test)):.2f}\")"
      ],
      "metadata": {
        "colab": {
          "base_uri": "https://localhost:8080/"
        },
        "id": "iR-BZTTqXZVm",
        "outputId": "de70c086-f6c0-4334-c6c0-f70d29cfac08"
      },
      "execution_count": 76,
      "outputs": [
        {
          "output_type": "stream",
          "name": "stdout",
          "text": [
            "Melhores Parâmetros: {'rf__max_depth': 15, 'rf__n_estimators': 300}\n",
            "Score no conjunto de teste: 0.8959630609050895\n",
            "Resultados do conjunto de treino:\n",
            "R2: 0.98\n",
            "MAE: 6791.89\n",
            "RMSE: 11881.16\n",
            "\n",
            "Resultados do conjunto de teste:\n",
            "R2: 0.90\n",
            "MAE: 16785.19\n",
            "RMSE: 26944.01\n"
          ]
        }
      ]
    },
    {
      "cell_type": "markdown",
      "source": [
        "DECISION TREE\n"
      ],
      "metadata": {
        "id": "a9nrC6JzdUIc"
      }
    },
    {
      "cell_type": "code",
      "source": [
        "from sklearn.tree import DecisionTreeRegressor\n",
        "\n",
        "def process_data():\n",
        "    df = pd.read_csv('/content/house_prices.csv')\n",
        "    X = df.drop(columns=[\"SalePrice\", \"Id\"])\n",
        "    y = df[\"SalePrice\"]\n",
        "\n",
        "    X_train, X_test, y_train, y_test = train_test_split(X, y, test_size=0.3, random_state=42)\n",
        "\n",
        "    categorical_features = X_train.select_dtypes(include=['object']).columns.tolist()\n",
        "    numerical_features = X_train.select_dtypes(exclude=['object']).columns.tolist()\n",
        "\n",
        "    # Criação de pipelines para pré-processamento\n",
        "    numerical_pipeline = Pipeline([\n",
        "        ('imputer', SimpleImputer(strategy='mean')),\n",
        "        ('std_scaler', StandardScaler())\n",
        "    ])\n",
        "\n",
        "    categorical_pipeline = Pipeline([\n",
        "        ('imputer', SimpleImputer(strategy='constant', fill_value='unknown')),\n",
        "        ('onehot', OneHotEncoder(handle_unknown='ignore'))\n",
        "    ])\n",
        "\n",
        "    # Transformador de coluna para processamento conjunto\n",
        "    pre_processor = ColumnTransformer([\n",
        "        ('num', numerical_pipeline, numerical_features),\n",
        "        ('cat', categorical_pipeline, categorical_features)\n",
        "    ])\n",
        "\n",
        "    # Aplicação do pré-processador nos conjuntos de treino e teste\n",
        "    X_train_processed = pre_processor.fit_transform(X_train)\n",
        "    X_test_processed = pre_processor.transform(X_test)\n",
        "\n",
        "    return X_train, X_test, y_train, y_test, pre_processor\n",
        "\n",
        "X_train, X_test, y_train, y_test, pre_processor = process_data()\n",
        "\n",
        "dt = DecisionTreeRegressor(random_state=42)\n",
        "\n",
        "# Criando o pipeline com SVR\n",
        "pipe_dt = Pipeline([('pre_process', pre_processor),\n",
        "                    (\"dt\", dt)])\n",
        "\n",
        "\n",
        "parametros_dt = {\n",
        "    'dt__max_depth': [None, 5, 10, 15],\n",
        "    'dt__min_samples_split': [2, 5, 10],\n",
        "    'dt__min_samples_leaf': [1, 2, 4]\n",
        "}\n",
        "\n",
        "grid_search_dt = GridSearchCV(estimator = pipe_dt,\n",
        "                           param_grid = parametros_dt,\n",
        "                           cv = 5,\n",
        "                           scoring = 'neg_mean_squared_error',\n",
        "                           n_jobs = -1)\n",
        "\n",
        "\n",
        "# Configurando e executando o Grid Search\n",
        "grid_search_dt.fit(X_train, y_train)\n",
        "\n",
        "# Obtendo os melhores parâmetros e o melhor modelo\n",
        "best_params_dt = grid_search_dt.best_params_\n",
        "best_model_dt = grid_search_dt.best_estimator_\n",
        "\n",
        "# Avaliando o modelo final no conjunto de teste\n",
        "test_score = best_model_dt.score(X_test, y_test)\n",
        "print(f\"Melhores Parâmetros: {best_params_dt}\")\n",
        "print(f\"Score no conjunto de teste: {test_score}\")\n",
        "\n",
        "y_pred_train = best_model_dt.predict(X_train)\n",
        "y_pred_test = best_model_dt.predict(X_test)\n",
        "\n",
        "\n",
        "# Exibindo os resultados\n",
        "print(\"Resultados do conjunto de treino:\")\n",
        "print(f\"R2: { r2_score(y_train, y_pred_train):.2f}\")\n",
        "print(f\"MAE: { mean_absolute_error(y_train, y_pred_train):.2f}\")\n",
        "print(f\"RMSE: { np.sqrt(mean_squared_error(y_train, y_pred_train)):.2f}\")\n",
        "\n",
        "print(\"\\nResultados do conjunto de teste:\")\n",
        "print(f\"R2: { r2_score(y_test, y_pred_test):.2f}\")\n",
        "print(f\"MAE: { mean_absolute_error(y_test, y_pred_test):.2f}\")\n",
        "print(f\"RMSE: { np.sqrt(mean_squared_error(y_test, y_pred_test)):.2f}\")"
      ],
      "metadata": {
        "colab": {
          "base_uri": "https://localhost:8080/"
        },
        "id": "9AQerTakdVhU",
        "outputId": "5e3c1690-aac3-4929-ee39-20382cbb6175"
      },
      "execution_count": 77,
      "outputs": [
        {
          "output_type": "stream",
          "name": "stdout",
          "text": [
            "Melhores Parâmetros: {'dt__max_depth': 5, 'dt__min_samples_leaf': 2, 'dt__min_samples_split': 5}\n",
            "Score no conjunto de teste: 0.7743361226474328\n",
            "Resultados do conjunto de treino:\n",
            "R2: 0.85\n",
            "MAE: 22303.28\n",
            "RMSE: 30399.22\n",
            "\n",
            "Resultados do conjunto de teste:\n",
            "R2: 0.77\n",
            "MAE: 27370.83\n",
            "RMSE: 39682.54\n"
          ]
        }
      ]
    },
    {
      "cell_type": "markdown",
      "source": [
        "KNN"
      ],
      "metadata": {
        "id": "N-o0zbY6fpV3"
      }
    },
    {
      "cell_type": "markdown",
      "source": [
        "**Regressão com KNN:** No contexto de regressão, o KNN é usado para prever valores numéricos. O algoritmo calcula a média dos K vizinhos mais próximos para estimar um valor contínuo. A previsão para um novo ponto é a média dos valores dos K vizinhos mais próximos.\n",
        "\n",
        "**Classificação com KNN:** Para problemas de classificação, o KNN determina a classe de um ponto baseado na classe dos seus vizinhos mais próximos. A classe é decidida pela maioria dos K vizinhos mais próximos."
      ],
      "metadata": {
        "id": "msgu-NGpEd4Y"
      }
    },
    {
      "cell_type": "code",
      "source": [
        "from sklearn.neighbors import KNeighborsRegressor\n",
        "from sklearn.model_selection import  KFold\n",
        "\n",
        "# Função para processamento dos dados\n",
        "def process_data():\n",
        "    df = pd.read_csv('/content/house_prices.csv')\n",
        "    X = df.drop(columns=[\"SalePrice\", \"Id\"])\n",
        "    y = df[\"SalePrice\"]\n",
        "\n",
        "    return X, y\n",
        "\n",
        "X, y = process_data()\n",
        "\n",
        "# Divisão dos dados em treino e teste\n",
        "X_train, X_test, y_train, y_test = train_test_split(X, y, test_size=0.3, random_state=42)\n",
        "\n",
        "# Pipeline de pré-processamento\n",
        "numerical_pipeline = Pipeline([\n",
        "    ('imputer', SimpleImputer(strategy='mean')),\n",
        "    ('std_scaler', StandardScaler())\n",
        "])\n",
        "\n",
        "categorical_pipeline = Pipeline([\n",
        "    ('imputer', SimpleImputer(strategy='constant', fill_value='unknown')),\n",
        "    ('onehot', OneHotEncoder(handle_unknown='ignore'))\n",
        "])\n",
        "\n",
        "categorical_features = X_train.select_dtypes(include=['object']).columns.tolist()\n",
        "numerical_features = X_train.select_dtypes(exclude=['object']).columns.tolist()\n",
        "\n",
        "pre_processor = ColumnTransformer([\n",
        "    ('num', numerical_pipeline, numerical_features),\n",
        "    ('cat', categorical_pipeline, categorical_features)\n",
        "])\n",
        "\n",
        "# Criando o pipeline com KNeighborsRegressor\n",
        "knn = KNeighborsRegressor()\n",
        "\n",
        "pipe_knn = Pipeline([('pre_process', pre_processor),\n",
        "                    (\"knn\", knn)])\n",
        "\n",
        "# Parâmetros para GridSearchCV\n",
        "parametros_knn = {\n",
        "    'knn__n_neighbors': range(2, 150),  # Número de vizinhos\n",
        "    'knn__weights': ['uniform', 'distance'],  # Peso dos vizinhos\n",
        "    'knn__p': [1, 2]  # Parâmetro de distância (1 para Manhattan, 2 para Euclidiana)\n",
        "}\n",
        "\n",
        "splitter = KFold(n_splits=5, shuffle=True, random_state=42)\n",
        "metric = 'neg_mean_squared_error'\n",
        "\n",
        "grid_search_knn = GridSearchCV(estimator=pipe_knn,\n",
        "                               param_grid=parametros_knn,\n",
        "                               cv=splitter,\n",
        "                               scoring=metric,\n",
        "                               n_jobs=-1)\n",
        "\n",
        "grid_search_knn.fit(X_train, y_train)\n",
        "\n",
        "best_model_knn = grid_search_knn.best_estimator_\n",
        "best_params_knn = grid_search_knn.best_params_\n",
        "\n",
        "print(f' Melhor parametro K {best_params_knn}')\n",
        "\n",
        "y_pred_train = best_model_knn.predict(X_train)\n",
        "y_pred_test = best_model_knn.predict(X_test)\n",
        "\n",
        "# Métricas para o conjunto de treino\n",
        "mse_train_knn_reg = mean_squared_error(y_train, y_pred_train)\n",
        "r2_train_knn_reg = r2_score(y_train, y_pred_train)\n",
        "mae_train_knn_reg = mean_absolute_error(y_train, y_pred_train)\n",
        "\n",
        "print(\"Métricas para o conjunto de treino:\")\n",
        "print(f\"MSE: {mse_train_knn_reg:.2f}\")\n",
        "print(f\"R²: {r2_train_knn_reg:.2f}\")\n",
        "print(f\"MAE: {mae_train_knn_reg:.2f}\")\n",
        "\n",
        "# Métricas para o conjunto de teste\n",
        "mse_test_knn_reg = mean_squared_error(y_test, y_pred_test)\n",
        "r2_test_knn_reg = r2_score(y_test, y_pred_test)\n",
        "mae_test_knn_reg = mean_absolute_error(y_test, y_pred_test)\n",
        "\n",
        "print(\"\\nMétricas para o conjunto de teste:\")\n",
        "print(f\"MSE: {mse_test_knn_reg:.2f}\")\n",
        "print(f\"R²: {r2_test_knn_reg:.2f}\")\n",
        "print(f\"MAE: {mae_test_knn_reg:.2f}\")\n"
      ],
      "metadata": {
        "colab": {
          "base_uri": "https://localhost:8080/"
        },
        "id": "4V3WczYhQyWv",
        "outputId": "8fde373d-4fc1-4b95-d4d5-3239b55ec53b"
      },
      "execution_count": 78,
      "outputs": [
        {
          "output_type": "stream",
          "name": "stdout",
          "text": [
            " Melhor parametro K {'knn__n_neighbors': 5, 'knn__p': 1, 'knn__weights': 'distance'}\n",
            "Métricas para o conjunto de treino:\n",
            "MSE: 0.00\n",
            "R²: 1.00\n",
            "MAE: 0.00\n",
            "\n",
            "Métricas para o conjunto de teste:\n",
            "MSE: 1152791113.16\n",
            "R²: 0.83\n",
            "MAE: 20148.46\n"
          ]
        }
      ]
    },
    {
      "cell_type": "markdown",
      "source": [
        "ADABOOST"
      ],
      "metadata": {
        "id": "dOIjZVcXRkx3"
      }
    },
    {
      "cell_type": "code",
      "source": [
        "def process_data():\n",
        "    df = pd.read_csv('/content/house_prices.csv')\n",
        "    X = df.drop(columns=[\"SalePrice\", \"Id\"])\n",
        "    y = df[\"SalePrice\"]\n",
        "\n",
        "    X_train, X_test, y_train, y_test = train_test_split(X, y, test_size=0.3, random_state=42)\n",
        "\n",
        "    categorical_features = X_train.select_dtypes(include=['object']).columns.tolist()\n",
        "    numerical_features = X_train.select_dtypes(exclude=['object']).columns.tolist()\n",
        "\n",
        "    # Criação de pipelines para pré-processamento\n",
        "    numerical_pipeline = Pipeline([\n",
        "        ('imputer', SimpleImputer(strategy='mean')),\n",
        "        ('std_scaler', StandardScaler())\n",
        "    ])\n",
        "\n",
        "    categorical_pipeline = Pipeline([\n",
        "        ('imputer', SimpleImputer(strategy='constant', fill_value='unknown')),\n",
        "        ('onehot', OneHotEncoder(handle_unknown='ignore'))\n",
        "    ])\n",
        "\n",
        "    # Transformador de coluna para processamento conjunto\n",
        "    pre_processor = ColumnTransformer([\n",
        "        ('num', numerical_pipeline, numerical_features),\n",
        "        ('cat', categorical_pipeline, categorical_features)\n",
        "    ])\n",
        "\n",
        "    # Aplicação do pré-processador nos conjuntos de treino e teste\n",
        "    X_train_processed = pre_processor.fit_transform(X_train)\n",
        "    X_test_processed = pre_processor.transform(X_test)\n",
        "\n",
        "    return X_train, X_test, y_train, y_test, pre_processor\n",
        "\n",
        "from sklearn.ensemble import AdaBoostRegressor\n",
        "\n",
        "\n",
        "X_train, X_test, y_train, y_test, pre_processor = process_data()\n",
        "\n",
        "pipe_ab = Pipeline([('pre_process', pre_processor),\n",
        "                    (\"ab\", AdaBoostRegressor(random_state = 55) )])\n",
        "pipe_ab.fit(X_train, y_train)\n",
        "\n",
        "param_grid_ab = {\n",
        "    'ab__n_estimators': [50, 100, 200],\n",
        "    'ab__learning_rate': [0.01, 0.1, 1],\n",
        "    'ab__loss': ['linear', 'square', 'exponential']\n",
        "}\n",
        "\n",
        "# Create the grid search object for regression\n",
        "grid_search_ab = GridSearchCV(pipe_ab,\n",
        "                               param_grid_ab,\n",
        "                               cv=5,\n",
        "                               n_jobs=-1)\n",
        "\n",
        "\n",
        "grid_search_ab.fit(X_train, y_train)\n",
        "\n",
        "best_parameters_ab = grid_search_ab.best_params_\n",
        "\n",
        "y_pred_train_ab = grid_search_ab.predict(X_train)\n",
        "y_pred_test_ab = grid_search_ab.predict(X_test)\n",
        "\n",
        "mse_train_ab = mean_squared_error(y_train, y_pred_train_ab)\n",
        "mae_train_ab = mean_absolute_error(y_train, y_pred_train_ab)\n",
        "r2_train_ab = r2_score(y_train, y_pred_train_ab)\n",
        "\n",
        "mse_test_ab = mean_squared_error(y_test, y_pred_test_ab)\n",
        "mae_test_ab = mean_absolute_error(y_test, y_pred_test_ab)\n",
        "r2_test_ab = r2_score(y_test, y_pred_test_ab)\n",
        "\n",
        "print(f'Best parameters for AdaBoost: {best_parameters_ab}')\n",
        "print(\"Metrics for training set:\")\n",
        "print(f\"MSE: {mse_train_ab}\")\n",
        "print(f\"MAE: {mae_train_ab}\")\n",
        "print(f\"R-squared: {r2_train_ab}\")\n",
        "\n",
        "print(\"\\nMetrics for test set:\")\n",
        "print(f\"MSE: {mse_test_ab}\")\n",
        "print(f\"MAE: {mae_test_ab}\")\n",
        "print(f\"R-squared: {r2_test_ab}\")"
      ],
      "metadata": {
        "colab": {
          "base_uri": "https://localhost:8080/"
        },
        "id": "9m6iKsJ-RHZ_",
        "outputId": "0447916f-46b8-47aa-ce82-d9ab4a35f89b"
      },
      "execution_count": 52,
      "outputs": [
        {
          "output_type": "stream",
          "name": "stdout",
          "text": [
            "Best parameters for AdaBoost: {'ab__learning_rate': 1, 'ab__loss': 'exponential', 'ab__n_estimators': 50}\n",
            "Metrics for training set:\n",
            "MSE: 772420717.2173212\n",
            "MAE: 21482.40388637471\n",
            "R-squared: 0.8716605413796761\n",
            "\n",
            "Metrics for test set:\n",
            "MSE: 1060526989.6256981\n",
            "MAE: 23113.428502762596\n",
            "R-squared: 0.8480205302539611\n"
          ]
        }
      ]
    },
    {
      "cell_type": "markdown",
      "source": [
        "BOOSTING e BAGGING"
      ],
      "metadata": {
        "id": "iY2jqlNVmlY6"
      }
    },
    {
      "cell_type": "code",
      "source": [
        "from sklearn.ensemble import  BaggingRegressor\n",
        "\n",
        "\n",
        "def process_data():\n",
        "    df = pd.read_csv('/content/house_prices.csv')\n",
        "    X = df.drop(columns=[\"SalePrice\", \"Id\"])\n",
        "    y = df[\"SalePrice\"]\n",
        "\n",
        "    X_train, X_test, y_train, y_test = train_test_split(X, y, test_size=0.3, random_state=42)\n",
        "    return X_train, X_test, y_train, y_test\n",
        "\n",
        "def test_ensemble_models(X_train, X_test, y_train, y_test, best_params):\n",
        "    categorical_features = X_train.select_dtypes(include=['object']).columns.tolist()\n",
        "    numerical_features = X_train.select_dtypes(exclude=['object']).columns.tolist()\n",
        "\n",
        "    numerical_pipeline = Pipeline([\n",
        "        ('imputer', SimpleImputer(strategy='mean')),\n",
        "        ('std_scaler', StandardScaler())\n",
        "    ])\n",
        "\n",
        "    categorical_pipeline = Pipeline([\n",
        "        ('imputer', SimpleImputer(strategy='constant', fill_value='unknown')),\n",
        "        ('onehot', OneHotEncoder(handle_unknown='ignore'))\n",
        "    ])\n",
        "\n",
        "    pre_processor = ColumnTransformer([\n",
        "        ('num', numerical_pipeline, numerical_features),\n",
        "        ('cat', categorical_pipeline, categorical_features)\n",
        "    ])\n",
        "\n",
        "    X_train_processed = pre_processor.fit_transform(X_train)\n",
        "    X_test_processed = pre_processor.transform(X_test)\n",
        "\n",
        "    estimators = [\n",
        "        (\"KNN\", KNeighborsRegressor(**best_params[\"knn\"])),\n",
        "        (\"RandomForest\", RandomForestRegressor(**best_params[\"random_forest\"])),\n",
        "        (\"DecisionTree\", DecisionTreeRegressor(**best_params[\"decision_tree\"])),\n",
        "        (\"SVR\", SVR(**best_params[\"svr\"]))\n",
        "    ]\n",
        "\n",
        "    for name, estimator in estimators:\n",
        "        # AdaBoost\n",
        "        ada_boost = AdaBoostRegressor(base_estimator=estimator, random_state=42)\n",
        "        ada_boost.fit(X_train_processed, y_train)\n",
        "        ada_boost_score = ada_boost.score(X_test_processed, y_test)\n",
        "        print(f\"AdaBoost with {name}: {ada_boost_score}\")\n",
        "\n",
        "        # Bagging\n",
        "        bagging = BaggingRegressor(base_estimator=estimator, random_state=42)\n",
        "        bagging.fit(X_train_processed, y_train)\n",
        "        bagging_score = bagging.score(X_test_processed, y_test)\n",
        "        print(f\"Bagging with {name}: {bagging_score}\")\n",
        "\n",
        "# Seus parâmetros GridSearchCV\n",
        "best_params = {\n",
        "    \"knn\": {'n_neighbors': 5, 'p': 1, 'weights': 'distance'},\n",
        "    \"random_forest\": {'max_depth': 15, 'n_estimators': 300},\n",
        "    \"decision_tree\": {'max_depth': 5, 'min_samples_leaf': 2, 'min_samples_split': 5},\n",
        "    \"svr\": {'C': 1, 'epsilon': 0.3, 'gamma': 1, 'kernel': 'poly'}\n",
        "}\n",
        "\n",
        "# Obtendo os dados\n",
        "X_train, X_test, y_train, y_test = process_data()\n",
        "\n",
        "# Chamando a função com os dados e os melhores parâmetros\n",
        "test_ensemble_models(X_train, X_test, y_train, y_test, best_params)"
      ],
      "metadata": {
        "colab": {
          "base_uri": "https://localhost:8080/"
        },
        "id": "8PYhgWmBaMTs",
        "outputId": "b1494b0c-9184-4f74-9123-c4fa397c066b"
      },
      "execution_count": 80,
      "outputs": [
        {
          "output_type": "stream",
          "name": "stderr",
          "text": [
            "/usr/local/lib/python3.10/dist-packages/sklearn/ensemble/_base.py:166: FutureWarning: `base_estimator` was renamed to `estimator` in version 1.2 and will be removed in 1.4.\n",
            "  warnings.warn(\n"
          ]
        },
        {
          "output_type": "stream",
          "name": "stdout",
          "text": [
            "AdaBoost with KNN: 0.8598372694122696\n"
          ]
        },
        {
          "output_type": "stream",
          "name": "stderr",
          "text": [
            "/usr/local/lib/python3.10/dist-packages/sklearn/ensemble/_base.py:166: FutureWarning: `base_estimator` was renamed to `estimator` in version 1.2 and will be removed in 1.4.\n",
            "  warnings.warn(\n"
          ]
        },
        {
          "output_type": "stream",
          "name": "stdout",
          "text": [
            "Bagging with KNN: 0.8411986531194735\n"
          ]
        },
        {
          "output_type": "stream",
          "name": "stderr",
          "text": [
            "/usr/local/lib/python3.10/dist-packages/sklearn/ensemble/_base.py:166: FutureWarning: `base_estimator` was renamed to `estimator` in version 1.2 and will be removed in 1.4.\n",
            "  warnings.warn(\n"
          ]
        },
        {
          "output_type": "stream",
          "name": "stdout",
          "text": [
            "AdaBoost with RandomForest: 0.9133442058954672\n"
          ]
        },
        {
          "output_type": "stream",
          "name": "stderr",
          "text": [
            "/usr/local/lib/python3.10/dist-packages/sklearn/ensemble/_base.py:166: FutureWarning: `base_estimator` was renamed to `estimator` in version 1.2 and will be removed in 1.4.\n",
            "  warnings.warn(\n"
          ]
        },
        {
          "output_type": "stream",
          "name": "stdout",
          "text": [
            "Bagging with RandomForest: 0.8916769353188214\n"
          ]
        },
        {
          "output_type": "stream",
          "name": "stderr",
          "text": [
            "/usr/local/lib/python3.10/dist-packages/sklearn/ensemble/_base.py:166: FutureWarning: `base_estimator` was renamed to `estimator` in version 1.2 and will be removed in 1.4.\n",
            "  warnings.warn(\n"
          ]
        },
        {
          "output_type": "stream",
          "name": "stdout",
          "text": [
            "AdaBoost with DecisionTree: 0.8932013010521034\n",
            "Bagging with DecisionTree: 0.8623158308300362\n"
          ]
        },
        {
          "output_type": "stream",
          "name": "stderr",
          "text": [
            "/usr/local/lib/python3.10/dist-packages/sklearn/ensemble/_base.py:166: FutureWarning: `base_estimator` was renamed to `estimator` in version 1.2 and will be removed in 1.4.\n",
            "  warnings.warn(\n",
            "/usr/local/lib/python3.10/dist-packages/sklearn/ensemble/_base.py:166: FutureWarning: `base_estimator` was renamed to `estimator` in version 1.2 and will be removed in 1.4.\n",
            "  warnings.warn(\n"
          ]
        },
        {
          "output_type": "stream",
          "name": "stdout",
          "text": [
            "AdaBoost with SVR: 0.9081729972049186\n"
          ]
        },
        {
          "output_type": "stream",
          "name": "stderr",
          "text": [
            "/usr/local/lib/python3.10/dist-packages/sklearn/ensemble/_base.py:166: FutureWarning: `base_estimator` was renamed to `estimator` in version 1.2 and will be removed in 1.4.\n",
            "  warnings.warn(\n"
          ]
        },
        {
          "output_type": "stream",
          "name": "stdout",
          "text": [
            "Bagging with SVR: 0.91619714631634\n"
          ]
        }
      ]
    }
  ]
}